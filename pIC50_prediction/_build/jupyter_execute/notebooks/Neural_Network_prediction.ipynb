{
 "cells": [
  {
   "cell_type": "markdown",
   "id": "bcdd8411fc71d1d5",
   "metadata": {
    "collapsed": false
   },
   "source": [
    "# Neural Network Prediction"
   ]
  },
  {
   "cell_type": "code",
   "execution_count": 1,
   "id": "initial_id",
   "metadata": {
    "ExecuteTime": {
     "end_time": "2024-08-22T06:42:43.119236Z",
     "start_time": "2024-08-22T06:42:43.117241Z"
    },
    "collapsed": true
   },
   "outputs": [],
   "source": [
    "import numpy as np\n",
    "import pandas as pd\n",
    "import matplotlib.pyplot as plt\n",
    "from sklearn.model_selection import train_test_split"
   ]
  },
  {
   "cell_type": "code",
   "execution_count": 2,
   "id": "6484e5d7654bb46b",
   "metadata": {
    "ExecuteTime": {
     "end_time": "2024-08-22T06:42:43.226833Z",
     "start_time": "2024-08-22T06:42:43.167015Z"
    },
    "collapsed": false
   },
   "outputs": [
    {
     "name": "stdout",
     "output_type": "stream",
     "text": [
      "(2985, 885)\n",
      "(2985, 1)\n"
     ]
    }
   ],
   "source": [
    "# read prepared data from previous notebooks\n",
    "X = pd.read_csv('X.csv', index_col=0)\n",
    "Y = pd.read_csv('Y.csv', index_col=0)\n",
    "print(X.shape)\n",
    "print(Y.shape)"
   ]
  },
  {
   "cell_type": "markdown",
   "id": "54de4cb89f83a0d",
   "metadata": {
    "collapsed": false
   },
   "source": [
    "Visualize X and Y dataset"
   ]
  },
  {
   "cell_type": "code",
   "execution_count": 3,
   "id": "a4afcf320a1736ce",
   "metadata": {
    "ExecuteTime": {
     "end_time": "2024-08-22T06:42:43.232977Z",
     "start_time": "2024-08-22T06:42:43.227639Z"
    },
    "collapsed": false
   },
   "outputs": [
    {
     "data": {
      "text/html": [
       "<div>\n",
       "<style scoped>\n",
       "    .dataframe tbody tr th:only-of-type {\n",
       "        vertical-align: middle;\n",
       "    }\n",
       "\n",
       "    .dataframe tbody tr th {\n",
       "        vertical-align: top;\n",
       "    }\n",
       "\n",
       "    .dataframe thead th {\n",
       "        text-align: right;\n",
       "    }\n",
       "</style>\n",
       "<table border=\"1\" class=\"dataframe\">\n",
       "  <thead>\n",
       "    <tr style=\"text-align: right;\">\n",
       "      <th></th>\n",
       "      <th>mol_weight</th>\n",
       "      <th>log_p</th>\n",
       "      <th>num_h_donors</th>\n",
       "      <th>num_h_acceptors</th>\n",
       "      <th>PubchemFP0</th>\n",
       "      <th>PubchemFP1</th>\n",
       "      <th>PubchemFP2</th>\n",
       "      <th>PubchemFP3</th>\n",
       "      <th>PubchemFP4</th>\n",
       "      <th>PubchemFP5</th>\n",
       "      <th>...</th>\n",
       "      <th>PubchemFP871</th>\n",
       "      <th>PubchemFP872</th>\n",
       "      <th>PubchemFP873</th>\n",
       "      <th>PubchemFP874</th>\n",
       "      <th>PubchemFP875</th>\n",
       "      <th>PubchemFP876</th>\n",
       "      <th>PubchemFP877</th>\n",
       "      <th>PubchemFP878</th>\n",
       "      <th>PubchemFP879</th>\n",
       "      <th>PubchemFP880</th>\n",
       "    </tr>\n",
       "  </thead>\n",
       "  <tbody>\n",
       "    <tr>\n",
       "      <th>0</th>\n",
       "      <td>311.422</td>\n",
       "      <td>3.3188</td>\n",
       "      <td>1.0</td>\n",
       "      <td>2.0</td>\n",
       "      <td>1</td>\n",
       "      <td>1</td>\n",
       "      <td>1</td>\n",
       "      <td>0</td>\n",
       "      <td>0</td>\n",
       "      <td>0</td>\n",
       "      <td>...</td>\n",
       "      <td>0</td>\n",
       "      <td>0</td>\n",
       "      <td>0</td>\n",
       "      <td>0</td>\n",
       "      <td>0</td>\n",
       "      <td>0</td>\n",
       "      <td>0</td>\n",
       "      <td>0</td>\n",
       "      <td>0</td>\n",
       "      <td>0</td>\n",
       "    </tr>\n",
       "    <tr>\n",
       "      <th>1</th>\n",
       "      <td>299.461</td>\n",
       "      <td>3.2412</td>\n",
       "      <td>1.0</td>\n",
       "      <td>3.0</td>\n",
       "      <td>1</td>\n",
       "      <td>1</td>\n",
       "      <td>1</td>\n",
       "      <td>0</td>\n",
       "      <td>0</td>\n",
       "      <td>0</td>\n",
       "      <td>...</td>\n",
       "      <td>0</td>\n",
       "      <td>0</td>\n",
       "      <td>0</td>\n",
       "      <td>0</td>\n",
       "      <td>0</td>\n",
       "      <td>0</td>\n",
       "      <td>0</td>\n",
       "      <td>0</td>\n",
       "      <td>0</td>\n",
       "      <td>0</td>\n",
       "    </tr>\n",
       "    <tr>\n",
       "      <th>2</th>\n",
       "      <td>311.422</td>\n",
       "      <td>3.3188</td>\n",
       "      <td>1.0</td>\n",
       "      <td>2.0</td>\n",
       "      <td>1</td>\n",
       "      <td>1</td>\n",
       "      <td>1</td>\n",
       "      <td>0</td>\n",
       "      <td>0</td>\n",
       "      <td>0</td>\n",
       "      <td>...</td>\n",
       "      <td>0</td>\n",
       "      <td>0</td>\n",
       "      <td>0</td>\n",
       "      <td>0</td>\n",
       "      <td>0</td>\n",
       "      <td>0</td>\n",
       "      <td>0</td>\n",
       "      <td>0</td>\n",
       "      <td>0</td>\n",
       "      <td>0</td>\n",
       "    </tr>\n",
       "    <tr>\n",
       "      <th>3</th>\n",
       "      <td>327.877</td>\n",
       "      <td>3.8331</td>\n",
       "      <td>1.0</td>\n",
       "      <td>2.0</td>\n",
       "      <td>1</td>\n",
       "      <td>1</td>\n",
       "      <td>1</td>\n",
       "      <td>0</td>\n",
       "      <td>0</td>\n",
       "      <td>0</td>\n",
       "      <td>...</td>\n",
       "      <td>0</td>\n",
       "      <td>0</td>\n",
       "      <td>0</td>\n",
       "      <td>0</td>\n",
       "      <td>0</td>\n",
       "      <td>0</td>\n",
       "      <td>0</td>\n",
       "      <td>0</td>\n",
       "      <td>0</td>\n",
       "      <td>0</td>\n",
       "    </tr>\n",
       "    <tr>\n",
       "      <th>4</th>\n",
       "      <td>372.328</td>\n",
       "      <td>3.9422</td>\n",
       "      <td>1.0</td>\n",
       "      <td>2.0</td>\n",
       "      <td>1</td>\n",
       "      <td>1</td>\n",
       "      <td>1</td>\n",
       "      <td>0</td>\n",
       "      <td>0</td>\n",
       "      <td>0</td>\n",
       "      <td>...</td>\n",
       "      <td>0</td>\n",
       "      <td>0</td>\n",
       "      <td>0</td>\n",
       "      <td>0</td>\n",
       "      <td>0</td>\n",
       "      <td>0</td>\n",
       "      <td>0</td>\n",
       "      <td>0</td>\n",
       "      <td>0</td>\n",
       "      <td>0</td>\n",
       "    </tr>\n",
       "  </tbody>\n",
       "</table>\n",
       "<p>5 rows × 885 columns</p>\n",
       "</div>"
      ],
      "text/plain": [
       "   mol_weight   log_p  num_h_donors  num_h_acceptors  PubchemFP0  PubchemFP1  \\\n",
       "0     311.422  3.3188           1.0              2.0           1           1   \n",
       "1     299.461  3.2412           1.0              3.0           1           1   \n",
       "2     311.422  3.3188           1.0              2.0           1           1   \n",
       "3     327.877  3.8331           1.0              2.0           1           1   \n",
       "4     372.328  3.9422           1.0              2.0           1           1   \n",
       "\n",
       "   PubchemFP2  PubchemFP3  PubchemFP4  PubchemFP5  ...  PubchemFP871  \\\n",
       "0           1           0           0           0  ...             0   \n",
       "1           1           0           0           0  ...             0   \n",
       "2           1           0           0           0  ...             0   \n",
       "3           1           0           0           0  ...             0   \n",
       "4           1           0           0           0  ...             0   \n",
       "\n",
       "   PubchemFP872  PubchemFP873  PubchemFP874  PubchemFP875  PubchemFP876  \\\n",
       "0             0             0             0             0             0   \n",
       "1             0             0             0             0             0   \n",
       "2             0             0             0             0             0   \n",
       "3             0             0             0             0             0   \n",
       "4             0             0             0             0             0   \n",
       "\n",
       "   PubchemFP877  PubchemFP878  PubchemFP879  PubchemFP880  \n",
       "0             0             0             0             0  \n",
       "1             0             0             0             0  \n",
       "2             0             0             0             0  \n",
       "3             0             0             0             0  \n",
       "4             0             0             0             0  \n",
       "\n",
       "[5 rows x 885 columns]"
      ]
     },
     "execution_count": 3,
     "metadata": {},
     "output_type": "execute_result"
    }
   ],
   "source": [
    "X.head()"
   ]
  },
  {
   "cell_type": "code",
   "execution_count": 4,
   "id": "f381d50cd0bde5cd",
   "metadata": {
    "ExecuteTime": {
     "end_time": "2024-08-22T06:42:43.236044Z",
     "start_time": "2024-08-22T06:42:43.233516Z"
    },
    "collapsed": false
   },
   "outputs": [
    {
     "data": {
      "text/html": [
       "<div>\n",
       "<style scoped>\n",
       "    .dataframe tbody tr th:only-of-type {\n",
       "        vertical-align: middle;\n",
       "    }\n",
       "\n",
       "    .dataframe tbody tr th {\n",
       "        vertical-align: top;\n",
       "    }\n",
       "\n",
       "    .dataframe thead th {\n",
       "        text-align: right;\n",
       "    }\n",
       "</style>\n",
       "<table border=\"1\" class=\"dataframe\">\n",
       "  <thead>\n",
       "    <tr style=\"text-align: right;\">\n",
       "      <th></th>\n",
       "      <th>pIC50</th>\n",
       "    </tr>\n",
       "  </thead>\n",
       "  <tbody>\n",
       "    <tr>\n",
       "      <th>0</th>\n",
       "      <td>5.301030</td>\n",
       "    </tr>\n",
       "    <tr>\n",
       "      <th>1</th>\n",
       "      <td>5.568636</td>\n",
       "    </tr>\n",
       "    <tr>\n",
       "      <th>2</th>\n",
       "      <td>5.744727</td>\n",
       "    </tr>\n",
       "    <tr>\n",
       "      <th>3</th>\n",
       "      <td>4.958607</td>\n",
       "    </tr>\n",
       "    <tr>\n",
       "      <th>4</th>\n",
       "      <td>5.000000</td>\n",
       "    </tr>\n",
       "  </tbody>\n",
       "</table>\n",
       "</div>"
      ],
      "text/plain": [
       "      pIC50\n",
       "0  5.301030\n",
       "1  5.568636\n",
       "2  5.744727\n",
       "3  4.958607\n",
       "4  5.000000"
      ]
     },
     "execution_count": 4,
     "metadata": {},
     "output_type": "execute_result"
    }
   ],
   "source": [
    "Y.head()"
   ]
  },
  {
   "cell_type": "markdown",
   "id": "8ce6c125d4864204",
   "metadata": {
    "collapsed": false
   },
   "source": [
    "## Building Neural Network\n",
    "\n",
    "Train Test Split\n",
    "Splitting the dataset into training and test sets."
   ]
  },
  {
   "cell_type": "code",
   "execution_count": 5,
   "id": "a3ae992ccf4d0914",
   "metadata": {
    "ExecuteTime": {
     "end_time": "2024-08-22T06:42:43.248898Z",
     "start_time": "2024-08-22T06:42:43.237085Z"
    },
    "collapsed": false
   },
   "outputs": [
    {
     "name": "stdout",
     "output_type": "stream",
     "text": [
      "(885, 2388)\n",
      "(1, 2388)\n"
     ]
    }
   ],
   "source": [
    "# Get 80% of the dataset as the training set. Put the remaining 20% as the test set: x_test and y_test.\n",
    "x_train, x_test, y_train, y_test = train_test_split(X, Y, test_size = 0.2, random_state = 1)\n",
    "\n",
    "# Transpose the dataset\n",
    "x_train = np.array(x_train.T)\n",
    "x_test = np.array(x_test.T)\n",
    "y_train =np.array(y_train.T)\n",
    "y_test = np.array(y_test.T)\n",
    "\n",
    "# Every column is one sample of chemical compound with a dimension of 885\n",
    "# There are in total 2388 training samples\n",
    "print(x_train.shape)\n",
    "print(y_train.shape)"
   ]
  },
  {
   "cell_type": "markdown",
   "id": "45e1b80e680862a5",
   "metadata": {
    "collapsed": false
   },
   "source": [
    "## Defines the input size, hidden size and output size"
   ]
  },
  {
   "cell_type": "code",
   "execution_count": 6,
   "id": "59377c5cec5c0511",
   "metadata": {
    "ExecuteTime": {
     "end_time": "2024-08-22T06:42:43.251048Z",
     "start_time": "2024-08-22T06:42:43.249558Z"
    },
    "collapsed": false
   },
   "outputs": [],
   "source": [
    "input_size = 885\n",
    "hidden_size_1 = 600\n",
    "hidden_size_2 = 400\n",
    "hidden_size_3 = 64\n",
    "output_size = 1"
   ]
  },
  {
   "cell_type": "markdown",
   "id": "d8f5e963c442c9d6",
   "metadata": {
    "collapsed": false
   },
   "source": [
    "Initialize parameters"
   ]
  },
  {
   "cell_type": "code",
   "execution_count": 7,
   "id": "b761b6171a917a11",
   "metadata": {
    "ExecuteTime": {
     "end_time": "2024-08-22T06:42:43.253645Z",
     "start_time": "2024-08-22T06:42:43.251560Z"
    },
    "collapsed": false
   },
   "outputs": [],
   "source": [
    "def init_param(input_size, hidden_size_1, hidden_size_2, hidden_size_3, output_size):\n",
    "    W1 = np.random.randn(hidden_size_1, input_size) * 0.01\n",
    "    B1 = np.random.randn(hidden_size_1, 1) * 0.01\n",
    "    W2 = np.random.randn(hidden_size_2, hidden_size_1) * 0.01\n",
    "    B2 = np.random.randn(hidden_size_2, 1) * 0.01\n",
    "    W3 = np.random.randn(hidden_size_3, hidden_size_2) * 0.01\n",
    "    B3 = np.random.randn(hidden_size_3, 1) * 0.01\n",
    "    W4 = np.random.randn(output_size, hidden_size_3) * 0.01\n",
    "    B4 = np.random.randn(output_size, 1) * 0.01\n",
    "    return W1, B1, W2, B2, W3, B3, W4, B4"
   ]
  },
  {
   "cell_type": "markdown",
   "id": "db7e017e504c0093",
   "metadata": {
    "collapsed": false
   },
   "source": [
    "Define Relu"
   ]
  },
  {
   "cell_type": "code",
   "execution_count": 8,
   "id": "76efb68fd43898ac",
   "metadata": {
    "ExecuteTime": {
     "end_time": "2024-08-22T06:42:43.255640Z",
     "start_time": "2024-08-22T06:42:43.254244Z"
    },
    "collapsed": false
   },
   "outputs": [],
   "source": [
    "def ReLU(Z):\n",
    "    return np.maximum(Z, 0)"
   ]
  },
  {
   "cell_type": "markdown",
   "id": "29e3fceddf483883",
   "metadata": {
    "collapsed": false
   },
   "source": [
    "## Forward Propagation\n",
    "\n"
   ]
  },
  {
   "cell_type": "code",
   "execution_count": 9,
   "id": "4ea98830538c5aee",
   "metadata": {
    "ExecuteTime": {
     "end_time": "2024-08-22T06:42:43.258022Z",
     "start_time": "2024-08-22T06:42:43.256039Z"
    },
    "collapsed": false
   },
   "outputs": [],
   "source": [
    "def forward_prop(X, W1, B1, W2, B2, W3, B3, W4, B4, dropout_rate=0.2):\n",
    "    Z1 = np.dot(W1, X) + B1\n",
    "    A1 = ReLU(Z1)\n",
    "    A1 = np.random.binomial(1, 1-dropout_rate, A1.shape) / (1-dropout_rate) * A1\n",
    "    \n",
    "    Z2 = np.dot(W2, A1) + B2\n",
    "    A2 = ReLU(Z2)\n",
    "    A2 = np.random.binomial(1, 1-dropout_rate, A2.shape) / (1-dropout_rate) * A2\n",
    "\n",
    "    Z3 = np.dot(W3, A2) + B3\n",
    "    A3 = ReLU(Z3)\n",
    "    A3 = np.random.binomial(1, 1-dropout_rate, A3.shape) / (1-dropout_rate) * A3\n",
    "\n",
    "    Z4 = np.dot(W4, A3) + B4\n",
    "    A4 = Z4  # linear activation\n",
    "    return Z1, A1, Z2, A2, Z3, A3, Z4, A4"
   ]
  },
  {
   "cell_type": "markdown",
   "id": "d1ab17735a35dea3",
   "metadata": {
    "collapsed": false
   },
   "source": [
    "## Model Dimensions\n",
    "$$\n",
    "\\begin{align*}\n",
    "W1 & : 600 \\times 885 \\\\\n",
    "X & : 885 \\times 2388 \\\\\n",
    "B1 & : 600 \\times 1 \\\\\n",
    "Z1 & : 600 \\times 2388 \\\\\n",
    "A1 & : 600 \\times 2388 \\\\\n",
    "W2 & : 400 \\times 600 \\\\\n",
    "B2 & : 400 \\times 1 \\\\\n",
    "Z2 & : 400 \\times 2388 \\\\\n",
    "A2 & : 400 \\times 2388 \\\\\n",
    "W3 & : 64 \\times 400 \\\\\n",
    "B3 & : 64 \\times 1 \\\\\n",
    "Z3 & : 64 \\times 2388 \\\\\n",
    "A3 & : 64 \\times 2388 \\\\\n",
    "W4 & : 1 \\times 64 \\\\\n",
    "B4 & : 1 \\times 64 \\\\\n",
    "Z4 & : 1 \\times 2388 \\\\\n",
    "A4 & : 1 \\times 2388 \\\\\n",
    "Y & : 1 \\times 2388 \\\\\n",
    "\\end{align*}\n",
    "$$"
   ]
  },
  {
   "cell_type": "markdown",
   "id": "b853371c59c48017",
   "metadata": {
    "collapsed": false
   },
   "source": [
    "## Forward Propagation:\n",
    "$$\n",
    "\\begin{align*}\n",
    "Z1 & = W1 \\times X + B1 \\\\\n",
    "A1 & = \\text{ReLU}(Z1) \\\\\n",
    "A1 & = \\text{Dropout}(A1, \\text{rate} = p) \\\\\n",
    "Z2 & = W2 \\times A1 + B2 \\\\\n",
    "A2 & = \\text{ReLU}(Z2) \\\\\n",
    "A2 & = \\text{Dropout}(A2, \\text{rate} = p) \\\\\n",
    "Z3 & = W3 \\times A2 + B3 \\\\\n",
    "A3 & = \\text{ReLU}(Z3) \\\\\n",
    "A3 & = \\text{Dropout}(A3, \\text{rate} = p) \\\\\n",
    "Z4 & = W4 \\times A3 + B4 \\\\\n",
    "A4 & = Z4 \\\\\n",
    "\\end{align*}\n",
    "$$"
   ]
  },
  {
   "cell_type": "markdown",
   "id": "a6ebeeb83a150258",
   "metadata": {
    "collapsed": false
   },
   "source": [
    "## Loss Function (MSE) and Back Propagation\n",
    "$$\n",
    "\\text{Loss}(A4, Y) = \\frac{1}{2 \\times 2388} \\sum_{i=1}^{2388} (A4 - Y)^2\n",
    "$$\n",
    "\n",
    "Gradients:\n",
    "\n",
    "$$\n",
    "\\begin{align*}\n",
    "dZ4 & = A4 - Y \\\\\n",
    "dW4 & = \\frac{1}{m} dZ4 \\times A3^T \\\\\n",
    "dB4 & = \\frac{1}{m} \\sum_{i=1}^{2388} dZ4_i \\\\\n",
    "dA3 & = W4^T \\times dZ4 \\\\\n",
    "dZ3 & = dA3 \\times \\text{dReLU}(Z3) \\\\\n",
    "dW3 & = \\frac{1}{m} dZ3 \\times A2^T \\\\\n",
    "dB3 & = \\frac{1}{m} \\sum_{i=1}^{2388} dZ3_i \\\\\n",
    "dA2 & = W3^T \\times dZ3 \\\\\n",
    "dZ2 & = dA2 \\times \\text{dReLU}(Z2) \\\\\n",
    "dW2 & = \\frac{1}{m} dZ2 \\times A1^T \\\\\n",
    "dB2 & = \\frac{1}{m} \\sum_{i=1}^{2388} dZ2_i \\\\\n",
    "dA1 & = W2^T \\times dZ2 \\\\\n",
    "dZ1 & = dA1 \\times \\text{dReLU}(Z1) \\\\\n",
    "dW1 & = \\frac{1}{m} dZ1 \\times X^T \\\\\n",
    "dB1 & = \\frac{1}{m} \\sum_{i=1}^{2388} dZ1_i \\\\\n",
    "\\end{align*}\n",
    "$$"
   ]
  },
  {
   "cell_type": "markdown",
   "id": "e5d6608fd47087dc",
   "metadata": {
    "collapsed": false
   },
   "source": [
    "## Define derivative of ReLU and back prop"
   ]
  },
  {
   "cell_type": "code",
   "execution_count": 10,
   "id": "f5ee27788e4fc015",
   "metadata": {
    "ExecuteTime": {
     "end_time": "2024-08-22T06:42:43.261073Z",
     "start_time": "2024-08-22T06:42:43.258536Z"
    },
    "collapsed": false
   },
   "outputs": [],
   "source": [
    "def deriv_ReLU(Z):\n",
    "    return Z > 0\n",
    "\n",
    "def back_prop(X, Y, Z1, A1, Z2, A2, Z3, A3, Z4, A4, W2, W3, W4):\n",
    "    m = X.shape[1]\n",
    "    \n",
    "    # Output layer gradients\n",
    "    dZ4 = A4 - Y\n",
    "    dW4 = (1 / m) * np.dot(dZ4, A3.T)\n",
    "    dB4 = (1 / m) * np.sum(dZ4, axis=1, keepdims=True)\n",
    "    \n",
    "    # Third hidden layer gradients\n",
    "    dA3 = np.dot(W4.T, dZ4)\n",
    "    dZ3 = dA3 * deriv_ReLU(Z3)\n",
    "    dW3 = (1 / m) * np.dot(dZ3, A2.T)\n",
    "    dB3 = (1 / m) * np.sum(dZ3, axis=1, keepdims=True)\n",
    "    \n",
    "    # Second hidden layer gradients\n",
    "    dA2 = np.dot(W3.T, dZ3)\n",
    "    dZ2 = dA2 * deriv_ReLU(Z2)\n",
    "    dW2 = (1 / m) * np.dot(dZ2, A1.T)\n",
    "    dB2 = (1 / m) * np.sum(dZ2, axis=1, keepdims=True)\n",
    "    \n",
    "    # First hidden layer gradients\n",
    "    dA1 = np.dot(W2.T, dZ2)\n",
    "    dZ1 = dA1 * deriv_ReLU(Z1)\n",
    "    dW1 = (1 / m) * np.dot(dZ1, X.T)\n",
    "    dB1 = (1 / m) * np.sum(dZ1, axis=1, keepdims=True)\n",
    "    \n",
    "    return dW1, dB1, dW2, dB2, dW3, dB3, dW4, dB4"
   ]
  },
  {
   "cell_type": "markdown",
   "id": "ced285d38be61930",
   "metadata": {
    "collapsed": false
   },
   "source": [
    "## Define loss function"
   ]
  },
  {
   "cell_type": "code",
   "execution_count": 11,
   "id": "d34f1485989a33f7",
   "metadata": {
    "ExecuteTime": {
     "end_time": "2024-08-22T06:42:43.264181Z",
     "start_time": "2024-08-22T06:42:43.262564Z"
    },
    "collapsed": false
   },
   "outputs": [],
   "source": [
    "def compute_loss(Y, A2):\n",
    "    m = Y.shape[1]\n",
    "    loss = (1 / (2 * m)) * np.sum((A2 - Y) ** 2)\n",
    "    return loss"
   ]
  },
  {
   "cell_type": "markdown",
   "id": "4fa019a945fd1b43",
   "metadata": {
    "collapsed": false
   },
   "source": [
    "## Define Gradient descent to update parameters"
   ]
  },
  {
   "cell_type": "code",
   "execution_count": 12,
   "id": "17ce919234f1fab0",
   "metadata": {
    "ExecuteTime": {
     "end_time": "2024-08-22T06:42:43.266507Z",
     "start_time": "2024-08-22T06:42:43.264722Z"
    },
    "collapsed": false
   },
   "outputs": [],
   "source": [
    "def update_parameters(W1, B1, W2, B2, W3, B3, W4, B4, dW1, dB1, dW2, dB2, dW3, dB3, dW4, dB4, learning_rate):\n",
    "    W1 -= learning_rate * dW1\n",
    "    B1 -= learning_rate * dB1\n",
    "    W2 -= learning_rate * dW2\n",
    "    B2 -= learning_rate * dB2\n",
    "    W3 -= learning_rate * dW3\n",
    "    B3 -= learning_rate * dB3\n",
    "    W4 -= learning_rate * dW4\n",
    "    B4 -= learning_rate * dB4\n",
    "    return W1, B1, W2, B2, W3, B3, W4, B4"
   ]
  },
  {
   "cell_type": "markdown",
   "id": "740fdc9c996dd5ad",
   "metadata": {
    "collapsed": false
   },
   "source": [
    "## Define Training loop"
   ]
  },
  {
   "cell_type": "code",
   "execution_count": 13,
   "id": "4611f0485c021742",
   "metadata": {
    "ExecuteTime": {
     "end_time": "2024-08-22T06:42:43.269314Z",
     "start_time": "2024-08-22T06:42:43.267015Z"
    },
    "collapsed": false
   },
   "outputs": [],
   "source": [
    "def train(X, Y, learning_rate=0.0001, epochs=1000):\n",
    "    W1, B1, W2, B2, W3, B3, W4, B4 = init_param(input_size, hidden_size_1, hidden_size_2, hidden_size_3, output_size)\n",
    "    loss_history = []\n",
    "    \n",
    "    for epoch in range(epochs):\n",
    "        Z1, A1, Z2, A2, Z3, A3, Z4, A4 = forward_prop(X, W1, B1, W2, B2, W3, B3, W4, B4)\n",
    "        loss = compute_loss(Y, A4)\n",
    "        loss_history.append(loss)\n",
    "        \n",
    "        dW1, dB1, dW2, dB2, dW3, dB3, dW4, dB4 = back_prop(X, Y, Z1, A1, Z2, A2, Z3, A3, Z4, A4, W2, W3, W4)\n",
    "        W1, B1, W2, B2, W3, B3, W4, B4 = update_parameters(W1, B1, W2, B2, W3, B3, W4, B4, dW1, dB1, dW2, dB2, dW3, dB3, dW4, dB4, learning_rate)\n",
    "        \n",
    "        if epoch % 200 == 0:\n",
    "            print(f'Epoch {epoch}, Loss: {loss}')\n",
    "    \n",
    "    return W1, B1, W2, B2, W3, B3, W4, B4, loss_history"
   ]
  },
  {
   "cell_type": "markdown",
   "id": "31b6589a0df60eff",
   "metadata": {
    "collapsed": false
   },
   "source": [
    "## Starts training"
   ]
  },
  {
   "cell_type": "code",
   "execution_count": 14,
   "id": "90000743843cc74f",
   "metadata": {
    "ExecuteTime": {
     "end_time": "2024-08-22T06:44:25.290025Z",
     "start_time": "2024-08-22T06:42:43.269804Z"
    },
    "collapsed": false
   },
   "outputs": [
    {
     "name": "stdout",
     "output_type": "stream",
     "text": [
      "Epoch 0, Loss: 15.845996172102879\n"
     ]
    },
    {
     "name": "stdout",
     "output_type": "stream",
     "text": [
      "Epoch 200, Loss: 2.1243727814427515\n"
     ]
    },
    {
     "ename": "KeyboardInterrupt",
     "evalue": "",
     "output_type": "error",
     "traceback": [
      "\u001b[0;31m---------------------------------------------------------------------------\u001b[0m",
      "\u001b[0;31mKeyboardInterrupt\u001b[0m                         Traceback (most recent call last)",
      "Cell \u001b[0;32mIn[14], line 1\u001b[0m\n\u001b[0;32m----> 1\u001b[0m trained_W1, trained_B1, trained_W2, trained_B2, trained_W3, trained_B3, trained_W4, trained_B4, loss_history \u001b[38;5;241m=\u001b[39m \u001b[43mtrain\u001b[49m\u001b[43m(\u001b[49m\u001b[43mx_train\u001b[49m\u001b[43m,\u001b[49m\u001b[43m \u001b[49m\u001b[43my_train\u001b[49m\u001b[43m)\u001b[49m\n",
      "Cell \u001b[0;32mIn[13], line 6\u001b[0m, in \u001b[0;36mtrain\u001b[0;34m(X, Y, learning_rate, epochs)\u001b[0m\n\u001b[1;32m      3\u001b[0m loss_history \u001b[38;5;241m=\u001b[39m []\n\u001b[1;32m      5\u001b[0m \u001b[38;5;28;01mfor\u001b[39;00m epoch \u001b[38;5;129;01min\u001b[39;00m \u001b[38;5;28mrange\u001b[39m(epochs):\n\u001b[0;32m----> 6\u001b[0m     Z1, A1, Z2, A2, Z3, A3, Z4, A4 \u001b[38;5;241m=\u001b[39m \u001b[43mforward_prop\u001b[49m\u001b[43m(\u001b[49m\u001b[43mX\u001b[49m\u001b[43m,\u001b[49m\u001b[43m \u001b[49m\u001b[43mW1\u001b[49m\u001b[43m,\u001b[49m\u001b[43m \u001b[49m\u001b[43mB1\u001b[49m\u001b[43m,\u001b[49m\u001b[43m \u001b[49m\u001b[43mW2\u001b[49m\u001b[43m,\u001b[49m\u001b[43m \u001b[49m\u001b[43mB2\u001b[49m\u001b[43m,\u001b[49m\u001b[43m \u001b[49m\u001b[43mW3\u001b[49m\u001b[43m,\u001b[49m\u001b[43m \u001b[49m\u001b[43mB3\u001b[49m\u001b[43m,\u001b[49m\u001b[43m \u001b[49m\u001b[43mW4\u001b[49m\u001b[43m,\u001b[49m\u001b[43m \u001b[49m\u001b[43mB4\u001b[49m\u001b[43m)\u001b[49m\n\u001b[1;32m      7\u001b[0m     loss \u001b[38;5;241m=\u001b[39m compute_loss(Y, A4)\n\u001b[1;32m      8\u001b[0m     loss_history\u001b[38;5;241m.\u001b[39mappend(loss)\n",
      "Cell \u001b[0;32mIn[9], line 2\u001b[0m, in \u001b[0;36mforward_prop\u001b[0;34m(X, W1, B1, W2, B2, W3, B3, W4, B4, dropout_rate)\u001b[0m\n\u001b[1;32m      1\u001b[0m \u001b[38;5;28;01mdef\u001b[39;00m \u001b[38;5;21mforward_prop\u001b[39m(X, W1, B1, W2, B2, W3, B3, W4, B4, dropout_rate\u001b[38;5;241m=\u001b[39m\u001b[38;5;241m0.2\u001b[39m):\n\u001b[0;32m----> 2\u001b[0m     Z1 \u001b[38;5;241m=\u001b[39m \u001b[43mnp\u001b[49m\u001b[38;5;241;43m.\u001b[39;49m\u001b[43mdot\u001b[49m\u001b[43m(\u001b[49m\u001b[43mW1\u001b[49m\u001b[43m,\u001b[49m\u001b[43m \u001b[49m\u001b[43mX\u001b[49m\u001b[43m)\u001b[49m \u001b[38;5;241m+\u001b[39m B1\n\u001b[1;32m      3\u001b[0m     A1 \u001b[38;5;241m=\u001b[39m ReLU(Z1)\n\u001b[1;32m      4\u001b[0m     A1 \u001b[38;5;241m=\u001b[39m np\u001b[38;5;241m.\u001b[39mrandom\u001b[38;5;241m.\u001b[39mbinomial(\u001b[38;5;241m1\u001b[39m, \u001b[38;5;241m1\u001b[39m\u001b[38;5;241m-\u001b[39mdropout_rate, A1\u001b[38;5;241m.\u001b[39mshape) \u001b[38;5;241m/\u001b[39m (\u001b[38;5;241m1\u001b[39m\u001b[38;5;241m-\u001b[39mdropout_rate) \u001b[38;5;241m*\u001b[39m A1\n",
      "\u001b[0;31mKeyboardInterrupt\u001b[0m: "
     ]
    }
   ],
   "source": [
    "trained_W1, trained_B1, trained_W2, trained_B2, trained_W3, trained_B3, trained_W4, trained_B4, loss_history = train(x_train, y_train)"
   ]
  },
  {
   "cell_type": "markdown",
   "id": "54cf02eb1b73f9fb",
   "metadata": {
    "collapsed": false
   },
   "source": [
    "## Visualize the training loss"
   ]
  },
  {
   "cell_type": "code",
   "execution_count": 237,
   "id": "e3f1b9ec05f74b9",
   "metadata": {
    "ExecuteTime": {
     "end_time": "2024-08-22T06:44:25.408657Z",
     "start_time": "2024-08-22T06:44:25.291199Z"
    },
    "collapsed": false
   },
   "outputs": [
    {
     "data": {
      "text/plain": [
       "[<matplotlib.lines.Line2D at 0x34f7d6ab0>]"
      ]
     },
     "execution_count": 237,
     "metadata": {},
     "output_type": "execute_result"
    },
    {
     "data": {
      "image/png": "[encoded data removed]",
      "text/plain": [
       "<Figure size 640x480 with 1 Axes>"
      ]
     },
     "metadata": {},
     "output_type": "display_data"
    }
   ],
   "source": [
    "plt.xlim(0, 1000)\n",
    "plt.plot(loss_history)"
   ]
  },
  {
   "cell_type": "markdown",
   "id": "56e7ace2e39d5ba3",
   "metadata": {
    "collapsed": false
   },
   "source": [
    "## With 1000 epoch of training, the loss on the training set is calculated\n",
    "\n",
    "Test the model on the test set"
   ]
  },
  {
   "cell_type": "code",
   "execution_count": 238,
   "id": "2f634b35b3cc5ffe",
   "metadata": {
    "ExecuteTime": {
     "end_time": "2024-08-22T06:44:25.475096Z",
     "start_time": "2024-08-22T06:44:25.409862Z"
    },
    "collapsed": false
   },
   "outputs": [
    {
     "name": "stdout",
     "output_type": "stream",
     "text": [
      "Prediction : [5.67441878 3.93759428 2.98048162 5.71251873 4.65941642 5.00502756\n",
      " 4.55637804 5.16805049 4.68073911 5.2589047  8.33572565 8.39572108\n",
      " 6.59195799 3.45574131 8.34154384 7.25741648 4.09029961 5.46717703\n",
      " 6.11046182 4.2934209  5.44595805 4.91091484 5.87084888 4.09632245\n",
      " 4.96049789 5.71407955 4.92102543 5.51453745 6.69418006 5.76432319\n",
      " 4.97153986 3.57833247 5.78778116 5.64127533 3.43861513 6.34171541\n",
      " 4.2264903  6.36843775 4.975339   4.18403529 6.62409373 2.74245139\n",
      " 5.56852651 4.78123253 4.67880814 5.32659743 5.3300072  6.52675987\n",
      " 4.1066085  7.77422227]\n",
      "Actual: [6.32239305 5.         4.82073554 6.20065945 5.48148606 5.04575749\n",
      " 4.70114692 4.72746222 5.08249449 8.52287875 5.52287875 4.61618463\n",
      " 5.07572071 4.92481815 8.55284197 4.39794001 4.82102305 4.00674017\n",
      " 5.95860731 5.46852108 5.1948391  4.78914663 5.         4.09151498\n",
      " 4.85387196 4.2756422  4.69897    7.25289907 6.09691001 4.66134433\n",
      " 4.69897    5.         4.73873713 4.73873713 7.49485002 5.\n",
      " 4.60205999 7.26760624 6.86012091 5.05256628 8.79588002 5.14752001\n",
      " 3.95467702 6.07572071 3.30103    4.6476245  4.82419837 4.89962945\n",
      " 4.73165609 6.65757732]\n",
      "loss : 1.499668979411229\n"
     ]
    }
   ],
   "source": [
    "_, _, _, _, _, _, _, predicted_A4 = forward_prop(x_test, trained_W1, trained_B1, \n",
    "                                           trained_W2, trained_B2, \n",
    "                                           trained_W3, trained_B3, \n",
    "                                           trained_W4, trained_B4)\n",
    "\n",
    "print(f\"Prediction : {predicted_A4[0][:50]}\")\n",
    "print(f\"Actual: {y_test[0][:50]}\")\n",
    "loss = compute_loss(y_test, predicted_A4)\n",
    "print(f\"loss : {loss}\")"
   ]
  },
  {
   "cell_type": "markdown",
   "id": "2a6a7797351a5b98",
   "metadata": {
    "collapsed": false
   },
   "source": [
    "## Results\n",
    "\n",
    "With 597 samples in the test set, the total loss is around 1.2."
   ]
  },
  {
   "cell_type": "markdown",
   "id": "7303ede268158be5",
   "metadata": {},
   "source": [
    "## Plot the actual value vs the predicted value"
   ]
  },
  {
   "cell_type": "code",
   "execution_count": 239,
   "id": "a86310e1cb2f8515",
   "metadata": {
    "ExecuteTime": {
     "end_time": "2024-08-22T06:44:25.594847Z",
     "start_time": "2024-08-22T06:44:25.477217Z"
    }
   },
   "outputs": [
    {
     "data": {
      "image/png": "[encoded data removed]",
      "text/plain": [
       "<Figure size 1000x600 with 1 Axes>"
      ]
     },
     "metadata": {},
     "output_type": "display_data"
    }
   ],
   "source": [
    "plt.figure(figsize=(10, 6))\n",
    "plt.scatter(y_test, predicted_A4, alpha=0.5)\n",
    "plt.xlabel('Actual pIC50 Values')\n",
    "plt.ylabel('Predicted pIC50 Values')\n",
    "plt.title('Actual vs Predicted pIC50 Values')\n",
    "plt.plot(np.arange(15), color='red')  # Line of equality\n",
    "plt.show()"
   ]
  }
 ],
 "metadata": {
  "kernelspec": {
   "display_name": "Python 3",
   "language": "python",
   "name": "python3"
  },
  "language_info": {
   "codemirror_mode": {
    "name": "ipython",
    "version": 3
   },
   "file_extension": ".py",
   "mimetype": "text/x-python",
   "name": "python",
   "nbconvert_exporter": "python",
   "pygments_lexer": "ipython3",
   "version": "3.12.2"
  }
 },
 "nbformat": 4,
 "nbformat_minor": 5
}